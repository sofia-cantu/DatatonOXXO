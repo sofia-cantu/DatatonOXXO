{
 "cells": [
  {
   "cell_type": "code",
   "execution_count": 9,
   "id": "a0a330c2",
   "metadata": {},
   "outputs": [],
   "source": [
    "import modelo_input\n",
    "import importlib\n",
    "importlib.reload(modelo_input)\n",
    "\n",
    "from modelo_input import generar_input_desde_coordenadas_json"
   ]
  },
  {
   "cell_type": "code",
   "execution_count": 10,
   "id": "b304f5e3",
   "metadata": {},
   "outputs": [
    {
     "name": "stdout",
     "output_type": "stream",
     "text": [
      "{'PLAZA_CVE': 3.0, 'NIVELSOCIOECONOMICO_DES': 'C', 'ENTORNO_DES': 'Base', 'SEGMENTO_MAESTRO_DESC': 'Parada Técnica', 'LID_UBICACION_TIENDA': 'UT_GAS_URBANA', 'MTS2VENTAS_NUM': 112.3, 'PUERTASREFRIG_NUM': 11.0, 'CAJONESESTACIONAMIENTO_NUM': 0.0, 'LATITUD_NUM': 25.6909, 'LONGITUD_NUM': -100.3185, 'POBTOT': '4932', 'TOTHOG': 1430.0, 'POCUPADA': 2528.0, 'PDESOCUP': 21.0, 'P_18A24': 537.0, 'P_18A24_F': 251.0, 'P_18A24_M': 259.0, 'VPH_REFRI': 1370.0, 'VPH_AUTOM': 650.0, 'VPH_PC': 666.0, 'VPH_NDACMM': 760.0, 'VPH_SINCINT': 383.0, 'P_12YMAS': 4264.0, 'P_15YMAS': 4100.0, 'P_15A49_F': 1072.0, 'POB15_64': 3216.0, 'PEA': 2570.0, 'PE_INAC': 1692.0, 'P12YM_CASA': 1932.0, 'P12YM_SOLT': 1724.0, 'P15YM_AN': 68.0, 'P15YM_SE': 88.0, 'P15PRI_CO': 369.0, 'P15SEC_CO': 1024.0, 'P18YM_PB': 2078.0}\n"
     ]
    },
    {
     "name": "stderr",
     "output_type": "stream",
     "text": [
      "c:\\Users\\aesca\\AppData\\Local\\Programs\\Python\\Python311\\Lib\\site-packages\\sklearn\\base.py:493: UserWarning: X does not have valid feature names, but NearestNeighbors was fitted with feature names\n",
      "  warnings.warn(\n"
     ]
    }
   ],
   "source": [
    "from modelo_input import generar_input_desde_coordenadas_json\n",
    "\n",
    "json_input = generar_input_desde_coordenadas_json(25.6909, -100.3185, \"Base\")\n",
    "print(json_input)"
   ]
  }
 ],
 "metadata": {
  "kernelspec": {
   "display_name": "Python 3",
   "language": "python",
   "name": "python3"
  },
  "language_info": {
   "codemirror_mode": {
    "name": "ipython",
    "version": 3
   },
   "file_extension": ".py",
   "mimetype": "text/x-python",
   "name": "python",
   "nbconvert_exporter": "python",
   "pygments_lexer": "ipython3",
   "version": "3.11.2"
  }
 },
 "nbformat": 4,
 "nbformat_minor": 5
}
