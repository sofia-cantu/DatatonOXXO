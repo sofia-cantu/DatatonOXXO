{
 "cells": [
  {
   "cell_type": "markdown",
   "id": "b2cae958",
   "metadata": {},
   "source": [
    "# Tratamiento de los datos"
   ]
  },
  {
   "cell_type": "code",
   "execution_count": null,
   "id": "577696f6",
   "metadata": {},
   "outputs": [],
   "source": [
    "import pandas as pd\n",
    "import numpy as np\n",
    "import matplotlib.pyplot as plt\n",
    "import seaborn as sns\n",
    "import folium\n",
    "from folium.plugins import MarkerCluster\n",
    "import warnings\n",
    "warnings.filterwarnings(\"ignore\")\n",
    "\n",
    "import plotly.graph_objects as go\n",
    "\n",
    "from sklearn.model_selection import train_test_split\n",
    "from sklearn.preprocessing import OneHotEncoder\n",
    "from sklearn.metrics import classification_report, accuracy_score\n",
    "from xgboost import XGBClassifier\n",
    "import pandas as pd\n",
    "from sklearn.model_selection import GridSearchCV\n",
    "\n",
    "from sklearn.neighbors import NearestNeighbors\n",
    "\n",
    "import geopandas as gpd\n",
    "from shapely.geometry import Point\n",
    "from scipy.optimize import minimize"
   ]
  },
  {
   "cell_type": "code",
   "execution_count": null,
   "id": "b03752fe",
   "metadata": {},
   "outputs": [],
   "source": [
    "# Estilo gráfico\n",
    "sns.set(style=\"whitegrid\")"
   ]
  },
  {
   "cell_type": "code",
   "execution_count": null,
   "id": "0c435018",
   "metadata": {},
   "outputs": [],
   "source": [
    "# Importar datos\n",
    "\n",
    "dim_tienda = pd.read_csv(\"/Users/abigail/Desktop/SEM VIII/DSC/Data/DIM_TIENDA.csv\")\n",
    "venta = pd.read_csv(\"/Users/abigail/Desktop/SEM VIII/DSC/Data/Venta.csv\")\n",
    "meta_venta = pd.read_csv(\"/Users/abigail/Desktop/SEM VIII/DSC/Data/Meta_venta.csv\")"
   ]
  },
  {
   "cell_type": "code",
   "execution_count": null,
   "id": "602082f3",
   "metadata": {},
   "outputs": [],
   "source": [
    "# Merge de datasets\n",
    "df = venta.merge(dim_tienda, on=\"TIENDA_ID\", how=\"left\")\n",
    "df = df.merge(meta_venta, on=\"ENTORNO_DES\", how=\"left\")\n"
   ]
  },
  {
   "cell_type": "code",
   "execution_count": null,
   "id": "a25fdb49",
   "metadata": {},
   "outputs": [],
   "source": [
    "# Crear variable target\n",
    "df[\"EXITO\"] = (df[\"VENTA_TOTAL\"] >= df[\"Meta_venta\"]).astype(int)"
   ]
  },
  {
   "cell_type": "code",
   "execution_count": null,
   "id": "f4925508",
   "metadata": {},
   "outputs": [],
   "source": [
    "# Mostrar estructura del dataframe final\n",
    "df"
   ]
  },
  {
   "cell_type": "markdown",
   "id": "c01c8ab7",
   "metadata": {},
   "source": [
    "# EDA"
   ]
  },
  {
   "cell_type": "markdown",
   "id": "45b36257",
   "metadata": {},
   "source": [
    "## Unicas Tiendas Agrupacion"
   ]
  },
  {
   "cell_type": "code",
   "execution_count": null,
   "id": "c005c53b",
   "metadata": {},
   "outputs": [],
   "source": [
    "# Agrupar por tienda única y SUMA \n",
    "df_tiendas = df.groupby(\"TIENDA_ID\", as_index=False).agg({\n",
    "    \"VENTA_TOTAL\": \"sum\",\n",
    "    \"Meta_venta\": \"mean\",\n",
    "    \"MTS2VENTAS_NUM\": \"mean\",\n",
    "    \"PUERTASREFRIG_NUM\": \"mean\",\n",
    "    \"CAJONESESTACIONAMIENTO_NUM\": \"mean\",\n",
    "    \"LATITUD_NUM\": \"first\",\n",
    "    \"LONGITUD_NUM\": \"first\",\n",
    "    \"EXITO\": \"max\",  \n",
    "    \"PLAZA_CVE\": \"first\",\n",
    "    \"NIVELSOCIOECONOMICO_DES\": \"first\",\n",
    "    \"ENTORNO_DES\": \"first\",\n",
    "    \"SEGMENTO_MAESTRO_DESC\": \"first\",\n",
    "    \"LID_UBICACION_TIENDA\": \"first\"\n",
    "})\n"
   ]
  },
  {
   "cell_type": "code",
   "execution_count": null,
   "id": "eb99b0a2",
   "metadata": {},
   "outputs": [],
   "source": [
    "df_tiendas"
   ]
  },
  {
   "cell_type": "markdown",
   "id": "c45711bf",
   "metadata": {},
   "source": [
    "## Tiendas con 0mt2"
   ]
  },
  {
   "cell_type": "code",
   "execution_count": null,
   "id": "2ea3a0d0",
   "metadata": {},
   "outputs": [],
   "source": [
    "# Filtramos las tiendas con 0 m2\n",
    "tiendas_mt2_cero = df[df[\"MTS2VENTAS_NUM\"] == 0]\n",
    "\n",
    "# Extraemos IDs únicos\n",
    "tiendas_unicas_cero = tiendas_mt2_cero[\"TIENDA_ID\"].nunique()\n",
    "\n",
    "print(f\"Número de tiendas únicas con 0 m2: {tiendas_unicas_cero}\")\n"
   ]
  },
  {
   "cell_type": "code",
   "execution_count": null,
   "id": "9b4643b1",
   "metadata": {},
   "outputs": [],
   "source": [
    "# Mostrar los IDs únicos\n",
    "tiendas_unicas_lista = tiendas_mt2_cero[\"TIENDA_ID\"].unique()\n",
    "tiendas_unicas_lista.sort()\n",
    "print(\"Tiendas con 0 m²:\")\n",
    "print(tiendas_unicas_lista)\n"
   ]
  },
  {
   "cell_type": "markdown",
   "id": "c92dd72d",
   "metadata": {},
   "source": [
    "## Estadisticas"
   ]
  },
  {
   "cell_type": "code",
   "execution_count": null,
   "id": "67bb4e4d",
   "metadata": {},
   "outputs": [],
   "source": [
    "# CORRELACION CON EXITO\n",
    "correlaciones = df_tiendas.corr(numeric_only=True)\n",
    "print(correlaciones[\"EXITO\"].sort_values(ascending=False))\n"
   ]
  },
  {
   "cell_type": "code",
   "execution_count": null,
   "id": "6a2fb0eb",
   "metadata": {},
   "outputs": [],
   "source": [
    "# Nivel Socioeconomico y exitos\n",
    "plt.figure(figsize=(10,5))\n",
    "sns.countplot(data=df_tiendas, x=\"NIVELSOCIOECONOMICO_DES\", hue=\"EXITO\", palette=\"Set2\")\n",
    "plt.title(\"Éxito por Nivel Socioeconómico\")\n",
    "plt.xticks(rotation=45)\n",
    "plt.xlabel(\"Nivel Socioeconómico\")\n",
    "plt.ylabel(\"Número de Tiendas\")\n",
    "ax = sns.countplot(data=df_tiendas, x=\"NIVELSOCIOECONOMICO_DES\", hue=\"EXITO\", palette=\"Set2\")\n",
    "for bar in ax.patches:\n",
    "    height = bar.get_height()\n",
    "    width = bar.get_width()\n",
    "    x = bar.get_x()\n",
    "    ax.text(x + width / 2, height + 1, f\"{int(height)}\", ha='center', va='bottom', fontsize=10)\n",
    "plt.legend(title=\"¿Cumple Meta?\", labels=[\"No\", \"Sí\"])\n",
    "plt.show()\n",
    "\n",
    "# La suma total de ventas por tienda\n"
   ]
  },
  {
   "cell_type": "code",
   "execution_count": null,
   "id": "9efef7fd",
   "metadata": {},
   "outputs": [],
   "source": [
    "plt.figure(figsize=(10,5))\n",
    "ax = sns.countplot(data=df_tiendas, x=\"ENTORNO_DES\", hue=\"EXITO\", palette=\"Set2\")\n",
    "plt.title(\"Conteo de tiendas por ENTORNO_DES y Éxito\")\n",
    "plt.xticks(rotation=45)\n",
    "plt.legend(title=\"Éxito\", labels=[\"No\", \"Sí\"])\n",
    "\n",
    "for bar in ax.patches:\n",
    "    height = bar.get_height()\n",
    "    width = bar.get_width()\n",
    "    x = bar.get_x()\n",
    "    ax.text(x + width / 2, height + 1, f\"{int(height)}\", ha='center', va='bottom', fontsize=10)\n",
    "\n",
    "plt.tight_layout()\n",
    "plt.show()\n"
   ]
  },
  {
   "cell_type": "code",
   "execution_count": null,
   "id": "8bdc85c4",
   "metadata": {},
   "outputs": [],
   "source": [
    "plt.figure(figsize=(10,5))\n",
    "ax = sns.countplot(data=df_tiendas, x=\"SEGMENTO_MAESTRO_DESC\", hue=\"EXITO\", palette=\"Set2\")\n",
    "plt.title(\"Conteo de tiendas por SEGMENTO_MAESTRO_DESC y Éxito\")\n",
    "plt.xticks(rotation=45)\n",
    "plt.legend(title=\"Éxito\", labels=[\"No\", \"Sí\"])\n",
    "\n",
    "for bar in ax.patches:\n",
    "    height = bar.get_height()\n",
    "    width = bar.get_width()\n",
    "    x = bar.get_x()\n",
    "    ax.text(x + width / 2, height + 1, f\"{int(height)}\", ha='center', va='bottom', fontsize=10)\n",
    "\n",
    "plt.tight_layout()\n",
    "plt.show()"
   ]
  },
  {
   "cell_type": "code",
   "execution_count": null,
   "id": "0b6a87bf",
   "metadata": {},
   "outputs": [],
   "source": [
    "plt.figure(figsize=(10,5))\n",
    "ax = sns.countplot(data=df_tiendas, x=\"LID_UBICACION_TIENDA\", hue=\"EXITO\", palette=\"Set2\")\n",
    "plt.title(\"Conteo de tiendas por LID_UBICACION_TIENDA y Éxito\")\n",
    "plt.xticks(rotation=45)\n",
    "plt.legend(title=\"Éxito\", labels=[\"No\", \"Sí\"])\n",
    "\n",
    "for bar in ax.patches:\n",
    "    height = bar.get_height()\n",
    "    width = bar.get_width()\n",
    "    x = bar.get_x()\n",
    "    ax.text(x + width / 2, height + 1, f\"{int(height)}\", ha='center', va='bottom', fontsize=10)\n",
    "\n",
    "plt.tight_layout()\n",
    "plt.show()"
   ]
  },
  {
   "cell_type": "code",
   "execution_count": null,
   "id": "de8f304d",
   "metadata": {},
   "outputs": [],
   "source": [
    "sns.kdeplot(data=df_tiendas, x=\"MTS2VENTAS_NUM\", hue=\"EXITO\", common_norm=False)\n"
   ]
  },
  {
   "cell_type": "code",
   "execution_count": null,
   "id": "99952035",
   "metadata": {},
   "outputs": [],
   "source": [
    "sns.kdeplot(data=df_tiendas, x=\"CAJONESESTACIONAMIENTO_NUM\", hue=\"EXITO\", common_norm=False)"
   ]
  },
  {
   "cell_type": "code",
   "execution_count": null,
   "id": "1e339b8b",
   "metadata": {},
   "outputs": [],
   "source": [
    "sns.kdeplot(data=df_tiendas, x=\"PUERTASREFRIG_NUM\", hue=\"EXITO\", common_norm=False)"
   ]
  },
  {
   "cell_type": "markdown",
   "id": "132c5503",
   "metadata": {},
   "source": [
    "### Proporcion sankey"
   ]
  },
  {
   "cell_type": "code",
   "execution_count": null,
   "id": "88d0445f",
   "metadata": {},
   "outputs": [],
   "source": [
    "# Data\n",
    "df_sankey = df_tiendas[[\n",
    "    \"NIVELSOCIOECONOMICO_DES\",\n",
    "    \"ENTORNO_DES\",\n",
    "    \"SEGMENTO_MAESTRO_DESC\",\n",
    "    \"LID_UBICACION_TIENDA\",\n",
    "    \"EXITO\"\n",
    "]].copy()"
   ]
  },
  {
   "cell_type": "code",
   "execution_count": null,
   "id": "73531cea",
   "metadata": {},
   "outputs": [],
   "source": [
    "# Mapear EXITO a texto\n",
    "df_sankey[\"EXITO\"] = df_sankey[\"EXITO\"].map({0: \"No Exitoso\", 1: \"Exitoso\"})"
   ]
  },
  {
   "cell_type": "code",
   "execution_count": null,
   "id": "6f8241b2",
   "metadata": {},
   "outputs": [],
   "source": [
    "# Lista única de etiquetas\n",
    "labels = pd.concat([\n",
    "    df_sankey[\"NIVELSOCIOECONOMICO_DES\"],\n",
    "    df_sankey[\"ENTORNO_DES\"],\n",
    "    df_sankey[\"SEGMENTO_MAESTRO_DESC\"],\n",
    "    df_sankey[\"LID_UBICACION_TIENDA\"],\n",
    "    df_sankey[\"EXITO\"]\n",
    "]).unique().tolist()"
   ]
  },
  {
   "cell_type": "code",
   "execution_count": null,
   "id": "7c2f746d",
   "metadata": {},
   "outputs": [],
   "source": [
    "# Función para obtener índice\n",
    "def get_index(label):\n",
    "    return labels.index(label)"
   ]
  },
  {
   "cell_type": "code",
   "execution_count": null,
   "id": "8cf2be36",
   "metadata": {},
   "outputs": [],
   "source": [
    "# Total para porcentaje\n",
    "total = len(df_sankey)"
   ]
  },
  {
   "cell_type": "code",
   "execution_count": null,
   "id": "019360c6",
   "metadata": {},
   "outputs": [],
   "source": [
    "# Flujos entre columnas\n",
    "def make_links(source_col, target_col):\n",
    "    group = df_sankey.groupby([source_col, target_col]).size().reset_index(name='count')\n",
    "    group[\"percentage\"] = group[\"count\"] / total * 100\n",
    "    group[\"label\"] = group.apply(lambda row: f\"{row['count']} tiendas ({row['percentage']:.1f}%)\", axis=1)\n",
    "    sources = group[source_col].apply(get_index).tolist()\n",
    "    targets = group[target_col].apply(get_index).tolist()\n",
    "    values = group[\"count\"].tolist()\n",
    "    labels_hover = group[\"label\"].tolist()\n",
    "    return sources, targets, values, labels_hover"
   ]
  },
  {
   "cell_type": "code",
   "execution_count": null,
   "id": "815ad0c2",
   "metadata": {},
   "outputs": [],
   "source": [
    "# Generar los datos para cada nivel\n",
    "s1, t1, v1, l1 = make_links(\"NIVELSOCIOECONOMICO_DES\", \"ENTORNO_DES\")\n",
    "s2, t2, v2, l2 = make_links(\"ENTORNO_DES\", \"SEGMENTO_MAESTRO_DESC\")\n",
    "s3, t3, v3, l3 = make_links(\"SEGMENTO_MAESTRO_DESC\", \"LID_UBICACION_TIENDA\")\n",
    "s4, t4, v4, l4 = make_links(\"LID_UBICACION_TIENDA\", \"EXITO\")"
   ]
  },
  {
   "cell_type": "code",
   "execution_count": null,
   "id": "f1d9bb34",
   "metadata": {},
   "outputs": [],
   "source": [
    "# Unir todo\n",
    "sources = s1 + s2 + s3 + s4\n",
    "targets = t1 + t2 + t3 + t4\n",
    "values = v1 + v2 + v3 + v4\n",
    "hover_labels = l1 + l2 + l3 + l4"
   ]
  },
  {
   "cell_type": "code",
   "execution_count": null,
   "id": "8d5f8524",
   "metadata": {},
   "outputs": [],
   "source": [
    "# Crear Sankey\n",
    "fig = go.Figure(data=[go.Sankey(\n",
    "    node=dict(\n",
    "        pad=15,\n",
    "        thickness=20,\n",
    "        label=labels,\n",
    "        color=\"lightblue\"\n",
    "    ),\n",
    "    link=dict(\n",
    "        source=sources,\n",
    "        target=targets,\n",
    "        value=values,\n",
    "        label=hover_labels,\n",
    "        customdata=hover_labels,\n",
    "        hovertemplate='<b>%{customdata}</b><extra></extra>'\n",
    "    ))])"
   ]
  },
  {
   "cell_type": "code",
   "execution_count": null,
   "id": "20293a99",
   "metadata": {},
   "outputs": [],
   "source": [
    "\n",
    "fig.update_layout(title_text=\"Sankey Multinivel con Conteo y Porcentaje de Tiendas\", font_size=10)\n",
    "fig.show()\n"
   ]
  },
  {
   "cell_type": "markdown",
   "id": "9bb7b7b8",
   "metadata": {},
   "source": [
    "# Limpieza de datos"
   ]
  },
  {
   "cell_type": "code",
   "execution_count": null,
   "id": "ef9aa7b4",
   "metadata": {},
   "outputs": [],
   "source": [
    "# Mt2 = 0\n",
    "media_mt2 = df.loc[df[\"MTS2VENTAS_NUM\"] > 0, \"MTS2VENTAS_NUM\"].mean()\n",
    "df.loc[df[\"MTS2VENTAS_NUM\"] == 0, \"MTS2VENTAS_NUM\"] = media_mt2"
   ]
  },
  {
   "cell_type": "code",
   "execution_count": null,
   "id": "e4e9e91e",
   "metadata": {},
   "outputs": [],
   "source": [
    "# Refris = 0\n",
    "df[\"PUERTASREFRIG_NUM\"] = df.groupby(\n",
    "    [\"ENTORNO_DES\", \"SEGMENTO_MAESTRO_DESC\"]\n",
    ")[\"PUERTASREFRIG_NUM\"].transform(\n",
    "    lambda x: x.replace(0, x[x > 0].mean())\n",
    ")"
   ]
  },
  {
   "cell_type": "code",
   "execution_count": null,
   "id": "d5f9c226",
   "metadata": {},
   "outputs": [],
   "source": [
    "# NULL BUSTING \n",
    "df_clean = df.dropna()"
   ]
  },
  {
   "cell_type": "code",
   "execution_count": null,
   "id": "220bb621",
   "metadata": {},
   "outputs": [],
   "source": [
    "df_clean.isnull().sum()"
   ]
  },
  {
   "cell_type": "code",
   "execution_count": null,
   "id": "58e34232",
   "metadata": {},
   "outputs": [],
   "source": [
    "df_clean"
   ]
  },
  {
   "cell_type": "markdown",
   "id": "7b3833b2",
   "metadata": {},
   "source": [
    "# Exploracion"
   ]
  },
  {
   "cell_type": "markdown",
   "id": "34121c91",
   "metadata": {},
   "source": [
    "## Mapa"
   ]
  },
  {
   "cell_type": "code",
   "execution_count": null,
   "id": "360a9e9e",
   "metadata": {},
   "outputs": [],
   "source": [
    "# Inicializar el mapa y el cluster\n",
    "mapa = folium.Map(location=[df_clean[\"LATITUD_NUM\"].mean(), df_clean[\"LONGITUD_NUM\"].mean()], zoom_start=6)\n",
    "marker_cluster = MarkerCluster().add_to(mapa)"
   ]
  },
  {
   "cell_type": "code",
   "execution_count": null,
   "id": "c168623e",
   "metadata": {},
   "outputs": [],
   "source": [
    "# Coordenadas\n",
    "coordenadas_agregadas = set()"
   ]
  },
  {
   "cell_type": "code",
   "execution_count": null,
   "id": "b151b96b",
   "metadata": {},
   "outputs": [],
   "source": [
    "# Mapear\n",
    "for _, row in df_clean.iterrows():\n",
    "    coord = (row[\"LATITUD_NUM\"], row[\"LONGITUD_NUM\"])\n",
    "    \n",
    "    if coord in coordenadas_agregadas:\n",
    "        continue  \n",
    "\n",
    "    coordenadas_agregadas.add(coord)\n",
    "    \n",
    "    color = \"green\" if row[\"EXITO\"] == 1 else \"red\"\n",
    "    folium.CircleMarker(\n",
    "        location=[row[\"LATITUD_NUM\"], row[\"LONGITUD_NUM\"]],\n",
    "        radius=5,\n",
    "        color=color,\n",
    "        fill=True,\n",
    "        fill_color=color,\n",
    "        fill_opacity=0.7,\n",
    "        popup=f\"Tienda: {row['TIENDA_ID']}\",\n",
    "    ).add_to(marker_cluster)"
   ]
  },
  {
   "cell_type": "code",
   "execution_count": null,
   "id": "525d97c5",
   "metadata": {},
   "outputs": [],
   "source": [
    "# Mostrar mapa\n",
    "mapa\n"
   ]
  },
  {
   "cell_type": "markdown",
   "id": "a82b894e",
   "metadata": {},
   "source": [
    "# Modelo?"
   ]
  },
  {
   "cell_type": "markdown",
   "id": "1235b883",
   "metadata": {},
   "source": [
    "## Base"
   ]
  },
  {
   "cell_type": "code",
   "execution_count": null,
   "id": "0889d563",
   "metadata": {},
   "outputs": [],
   "source": [
    "df_tiendas = df.groupby('TIENDA_ID', as_index=False).agg({\n",
    "    'VENTA_TOTAL': 'mean',\n",
    "    'Meta_venta': 'mean',\n",
    "    'MTS2VENTAS_NUM': 'mean',\n",
    "    'PUERTASREFRIG_NUM': 'mean',\n",
    "    'CAJONESESTACIONAMIENTO_NUM': 'mean',\n",
    "    'LATITUD_NUM': 'first',\n",
    "    'LONGITUD_NUM': 'first',\n",
    "    'PLAZA_CVE': 'first',\n",
    "    'NIVELSOCIOECONOMICO_DES': 'first',\n",
    "    'ENTORNO_DES': 'first',\n",
    "    'SEGMENTO_MAESTRO_DESC': 'first',\n",
    "    'LID_UBICACION_TIENDA': 'first'\n",
    "})\n",
    "\n",
    "df_tiendas['EXITO'] = (df_tiendas['VENTA_TOTAL'] >= df_tiendas['Meta_venta']).astype(int)\n",
    "df_tiendas['PCT_CUMPLIMIENTO'] = df_tiendas['VENTA_TOTAL'] / df_tiendas['Meta_venta'] * 100\n",
    "\n",
    "\n"
   ]
  },
  {
   "cell_type": "code",
   "execution_count": null,
   "id": "22b8d3df",
   "metadata": {},
   "outputs": [],
   "source": [
    "df_tiendas"
   ]
  },
  {
   "cell_type": "code",
   "execution_count": null,
   "id": "de55c03d",
   "metadata": {},
   "outputs": [],
   "source": [
    "# Mt2 = 0\n",
    "media_mt2 = df_tiendas.loc[df_tiendas[\"MTS2VENTAS_NUM\"] > 0, \"MTS2VENTAS_NUM\"].mean()\n",
    "df_tiendas.loc[df_tiendas[\"MTS2VENTAS_NUM\"] == 0, \"MTS2VENTAS_NUM\"] = media_mt2"
   ]
  },
  {
   "cell_type": "code",
   "execution_count": null,
   "id": "76faa69c",
   "metadata": {},
   "outputs": [],
   "source": [
    "# Refris = 0\n",
    "df_tiendas[\"PUERTASREFRIG_NUM\"] = df_tiendas.groupby(\n",
    "    [\"ENTORNO_DES\", \"SEGMENTO_MAESTRO_DESC\"]\n",
    ")[\"PUERTASREFRIG_NUM\"].transform(\n",
    "    lambda x: x.replace(0, x[x > 0].mean())\n",
    ")"
   ]
  },
  {
   "cell_type": "code",
   "execution_count": null,
   "id": "ba22f139",
   "metadata": {},
   "outputs": [],
   "source": [
    "# NULL BUSTING \n",
    "df_clean = df_tiendas.dropna()"
   ]
  },
  {
   "cell_type": "code",
   "execution_count": null,
   "id": "304f9cc1",
   "metadata": {},
   "outputs": [],
   "source": [
    "df_clean.isnull().sum()"
   ]
  },
  {
   "cell_type": "code",
   "execution_count": null,
   "id": "8200c6e6",
   "metadata": {},
   "outputs": [],
   "source": [
    "df_clean"
   ]
  },
  {
   "cell_type": "markdown",
   "id": "02eedaae",
   "metadata": {},
   "source": [
    "## Prediccion normalita"
   ]
  },
  {
   "cell_type": "code",
   "execution_count": null,
   "id": "d1ea6166",
   "metadata": {},
   "outputs": [],
   "source": [
    "# Funcion de distancia Haversine\n",
    "\n",
    "def haversine(lat1, lon1, lat2, lon2):\n",
    "    # Radio de la Tierra en kilómetros\n",
    "    R = 6371  \n",
    "\n",
    "    # Convierto tooooooodas las coordenadas de grados a radianes (porque las funciones trigonométricas usan radianes)\n",
    "    lat1, lon1, lat2, lon2 = map(np.radians, [lat1, lon1, lat2, lon2])\n",
    "\n",
    "    # Calculo la diferencia entre las latitudes y longitudes\n",
    "    dlat = lat2 - lat1\n",
    "    dlon = lon2 - lon1\n",
    "\n",
    "    # Fórmula de Haversine: calculo la distancia entre dos puntos en una esfera (asumiendo una Tierra esférica, right?)\n",
    "    a = np.sin(dlat/2.0)**2 + np.cos(lat1) * np.cos(lat2) * np.sin(dlon/2.0)**2\n",
    "    c = 2 * np.arcsin(np.sqrt(a))\n",
    "\n",
    "    # Multiplico por el radio de la Tierra para convertir la distancia angular a kilómetros\n",
    "    return R * c\n",
    "\n"
   ]
  },
  {
   "cell_type": "code",
   "execution_count": null,
   "id": "e6f896fa",
   "metadata": {},
   "outputs": [],
   "source": [
    "# Ruta \n",
    "ruta_shapefile = \"/Users/abigail/Desktop/SEM VIII/DSC/Data/ne_10m_admin_1_states_provinces/ne_10m_admin_1_states_provinces.shp\"\n",
    "\n",
    "# Cargar el shapefile\n",
    "gdf = gpd.read_file(ruta_shapefile)\n",
    "\n",
    "# Filtrar sólo México\n",
    "mexico = gdf[gdf['admin'] == 'Mexico']\n",
    "\n",
    "def esta_en_mexico(lat, lon):\n",
    "    # shapely usa (lon, lat)\n",
    "    punto = Point(lon, lat)  \n",
    "    return mexico.contains(punto).any()\n"
   ]
  },
  {
   "cell_type": "code",
   "execution_count": null,
   "id": "af49a44d",
   "metadata": {},
   "outputs": [],
   "source": [
    "from sklearn.metrics import classification_report, accuracy_score\n",
    "from sklearn.model_selection import train_test_split, GridSearchCV\n",
    "from xgboost import XGBClassifier\n",
    "from sklearn.preprocessing import OneHotEncoder\n",
    "from imblearn.over_sampling import SMOTE\n",
    "import pandas as pd\n",
    "\n",
    "def entrenar_modelo(df):\n",
    "\n",
    "    # Columnas categóricas y numéricas\n",
    "    cat_cols = [\"PLAZA_CVE\", \"NIVELSOCIOECONOMICO_DES\", \"ENTORNO_DES\", \"SEGMENTO_MAESTRO_DESC\", \"LID_UBICACION_TIENDA\"]\n",
    "    num_cols = [\"MTS2VENTAS_NUM\", \"PUERTASREFRIG_NUM\", \"CAJONESESTACIONAMIENTO_NUM\", \"LATITUD_NUM\", \"LONGITUD_NUM\"]\n",
    "\n",
    "    # Limpieza\n",
    "    df = df.dropna(subset=cat_cols + num_cols)\n",
    "    X_cat = df[cat_cols]\n",
    "    X_num = df[num_cols]\n",
    "\n",
    "    # Codificamos categorías\n",
    "    encoder = OneHotEncoder(handle_unknown=\"ignore\", sparse=False)\n",
    "    X_cat_encoded = encoder.fit_transform(X_cat)\n",
    "    X_cat_df = pd.DataFrame(X_cat_encoded, columns=encoder.get_feature_names_out(cat_cols), index=df.index)\n",
    "\n",
    "    X = pd.concat([X_num, X_cat_df], axis=1)\n",
    "    y = df[\"EXITO\"]\n",
    "\n",
    "    # Split original\n",
    "    X_train, X_test, y_train, y_test = train_test_split(X, y, stratify=y, test_size=0.2, random_state=42)\n",
    "\n",
    "    # 🧪 Aplicamos SMOTE\n",
    "    sm = SMOTE(random_state=42)\n",
    "    X_train_bal, y_train_bal = sm.fit_resample(X_train, y_train)\n",
    "\n",
    "    print(f\"Nuevo balance SMOTE: {pd.Series(y_train_bal).value_counts().to_dict()}\")\n",
    "\n",
    "    # Hiperparámetros\n",
    "    param_grid = {\n",
    "        'n_estimators': [50, 100],\n",
    "        'max_depth': [3, 5],\n",
    "        'learning_rate': [0.05, 0.1],\n",
    "        'subsample': [0.8, 1.0],\n",
    "        'colsample_bytree': [0.8, 1.0]\n",
    "    }\n",
    "\n",
    "    xgb_model = XGBClassifier(eval_metric='logloss', random_state=42)\n",
    "\n",
    "    grid_search = GridSearchCV(\n",
    "        estimator=xgb_model,\n",
    "        param_grid=param_grid,\n",
    "        scoring='roc_auc',\n",
    "        cv=5,\n",
    "        verbose=0,\n",
    "        n_jobs=-1\n",
    "    )\n",
    "\n",
    "    # Entrenamos\n",
    "    grid_search.fit(X_train_bal, y_train_bal)\n",
    "    model = grid_search.best_estimator_\n",
    "\n",
    "    # Evaluamos\n",
    "    y_pred = model.predict(X_test)\n",
    "    acc = accuracy_score(y_test, y_pred)\n",
    "\n",
    "    print(classification_report(y_test, y_pred))\n",
    "    print(f\"Accuracy: {acc:.4f}\")\n",
    "    \n",
    "    return model, encoder, cat_cols, num_cols\n"
   ]
  },
  {
   "cell_type": "code",
   "execution_count": null,
   "id": "ab74f7b9",
   "metadata": {},
   "outputs": [],
   "source": [
    "def predecir_tienda_nueva(nueva_tienda, model, encoder, cat_cols, num_cols):\n",
    "    # Armo un DataFrame con los datos que el usuario me da (la nueva tienda)\n",
    "    nueva_df = pd.DataFrame([nueva_tienda])\n",
    "    \n",
    "    # Codifico las columnas categóricas con el encoder que ya entrenamos (para que el modelo entienda)\n",
    "    cat_encoded = encoder.transform(nueva_df[cat_cols])\n",
    "    \n",
    "    # Transformo esa codificación en un DataFrame para poder combinarlo fácil con los numéricos\n",
    "    cat_encoded_df = pd.DataFrame(cat_encoded, columns=encoder.get_feature_names_out(cat_cols), index=nueva_df.index)\n",
    "\n",
    "    # Junto las columnas numéricas originales con las columnas categóricas codificadas\n",
    "    X_new = pd.concat([nueva_df[num_cols], cat_encoded_df], axis=1)\n",
    "    \n",
    "    # Verifico que todas las columnas que espera el modelo estén en X_new, si falta alguna la lleno con ceros\n",
    "    #    Esto pasa porque el encoder puede crear más columnas que no estaban en la nueva tienda (categorías que no tiene)\n",
    "    for col in model.get_booster().feature_names:\n",
    "        if col not in X_new.columns:\n",
    "            X_new[col] = 0\n",
    "            \n",
    "    # Reordeno las columnas para que coincidan exactamente con el orden que espera el modelo (muy importante)\n",
    "    X_new = X_new[model.get_booster().feature_names]\n",
    "    \n",
    "    # Hago la predicción: pred es la clase (éxito o no éxito)\n",
    "    pred = model.predict(X_new)[0]\n",
    "    \n",
    "    # Obtengo la probabilidad de que sea éxito (la clase 1), para tener un “porcentaje” de confianza\n",
    "    prob = model.predict_proba(X_new)[0][1]\n",
    "    \n",
    "    # Devuelvo la predicción y la probabilidad para que el que llamó la función decida qué hacer\n",
    "    return pred, prob\n"
   ]
  },
  {
   "cell_type": "code",
   "execution_count": null,
   "id": "06599782",
   "metadata": {},
   "outputs": [],
   "source": [
    "# Primero entreno el modelo y tomo el codificador y las columnas que necesito\n",
    "modelo, codificador, cat_cols, num_cols = entrenar_modelo(df)\n",
    "\n",
    "# Copio el DataFrame COMPLETO Y ORIGINAL limpio para usarlo sin arruinar el original\n",
    "df_features = df_clean.copy()\n",
    "\n",
    "# Creo un modelo de vecinos más cercanos, para encontrar la tienda más cercana. El vecino mas cercano (1)\n",
    "knn = NearestNeighbors(n_neighbors=1)  \n",
    "# Entreno el knn usando las coordenadas latitud y longitud de las tiendas\n",
    "knn.fit(df_features[[\"LATITUD_NUM\", \"LONGITUD_NUM\"]])"
   ]
  },
  {
   "cell_type": "code",
   "execution_count": null,
   "id": "d86c9e4d",
   "metadata": {},
   "outputs": [],
   "source": [
    "# Función que recibe una nueva latitud y longitud para predecir si abrir una tienda en esa ubicación sería exitoso\n",
    "def predecir_con_coordenadas(lat, lon):\n",
    "\n",
    "    # Busco la tienda existente más cercana a las coordenadas nuevas usando KNN\n",
    "    _, idx = knn.kneighbors([[lat, lon]])\n",
    "\n",
    "    # Selecciono la fila de esa tienda más cercana\n",
    "    tienda_cercana = df_features.iloc[idx[0][0]]\n",
    "\n",
    "    # Armo un nuevo diccionario con las características de la tienda cercana, pero reemplazo su latitud y longitud por las que me dio el usuario. Esto me permite aprovechar un contexto ya existente (como entorno, nivel socioeconómico, etc.) para simular cómo le iría a una tienda con esas coordenadas.\n",
    "    nueva_tienda = {\n",
    "        \"PLAZA_CVE\": tienda_cercana[\"PLAZA_CVE\"],\n",
    "        \"NIVELSOCIOECONOMICO_DES\": tienda_cercana[\"NIVELSOCIOECONOMICO_DES\"],\n",
    "        \"ENTORNO_DES\": tienda_cercana[\"ENTORNO_DES\"],\n",
    "        \"SEGMENTO_MAESTRO_DESC\": tienda_cercana[\"SEGMENTO_MAESTRO_DESC\"],\n",
    "        \"LID_UBICACION_TIENDA\": tienda_cercana[\"LID_UBICACION_TIENDA\"],\n",
    "        \"MTS2VENTAS_NUM\": tienda_cercana[\"MTS2VENTAS_NUM\"],\n",
    "        \"PUERTASREFRIG_NUM\": tienda_cercana[\"PUERTASREFRIG_NUM\"],\n",
    "        \"CAJONESESTACIONAMIENTO_NUM\": tienda_cercana[\"CAJONESESTACIONAMIENTO_NUM\"],\n",
    "\n",
    "        # Aquí actualizo la latitud y longitud a las coordenadas que el usuario quiere evaluar\n",
    "        \"LATITUD_NUM\": lat,   \n",
    "        \"LONGITUD_NUM\": lon    \n",
    "    }\n",
    "\n",
    "    # Llamo a mi función de predicción para saber si esta tienda “simulada” tendría éxito en esas coordenadas\n",
    "    return predecir_tienda_nueva(nueva_tienda, modelo, codificador, cat_cols, num_cols)\n"
   ]
  },
  {
   "cell_type": "markdown",
   "id": "1a6720b3",
   "metadata": {},
   "source": [
    "# Optimizacion"
   ]
  },
  {
   "cell_type": "code",
   "execution_count": null,
   "id": "aa359a92",
   "metadata": {},
   "outputs": [],
   "source": [
    "def ventas_estimadas_con_ubicacion(x, modelo, base_tienda, encoder, cat_cols, num_cols):\n",
    "\n",
    "    # Hago una copia de la tienda base para no modificar el original\n",
    "    tienda = base_tienda.copy()\n",
    "\n",
    "    # Le asigno a la tienda los valores nuevos que quiero probar (los que el optimizador me dice)\n",
    "    tienda[\"MTS2VENTAS_NUM\"] = x[0]\n",
    "    tienda[\"PUERTASREFRIG_NUM\"] = x[1]\n",
    "    tienda[\"CAJONESESTACIONAMIENTO_NUM\"] = x[2]\n",
    "\n",
    "    # Uso mi función que ya predice para tiendas nuevas, así que la aprovecho\n",
    "    _, prob = predecir_tienda_nueva(tienda, modelo, encoder, cat_cols, num_cols)\n",
    "\n",
    "    # Como la función de optimización (minimize) busca minimizar, yo regreso el negativo de la probabilidad para que internamente se maximice la probabilidad de éxito\n",
    "    return -prob\n"
   ]
  },
  {
   "cell_type": "code",
   "execution_count": null,
   "id": "a2aa6648",
   "metadata": {},
   "outputs": [],
   "source": [
    "# Defino los entornos válidos que acepto para la predicción\n",
    "ENTORNOS_VALIDOS = {\"Base\", \"Hogar\", \"Peatonal\", \"Receso\"}\n",
    "\n",
    "def predecir_y_optimizar_con_recomendacion(lat, lon, entorno, radio_km=1):\n",
    "    # Primero chequeo que el entorno esté dentro de los permitidos, si no, chao\n",
    "    if entorno not in ENTORNOS_VALIDOS:\n",
    "        print(f\"Error: entorno '{entorno}' no válido. Elige entre {ENTORNOS_VALIDOS}\")\n",
    "        return None\n",
    "\n",
    "    # Verifico que la ubicación esté dentro de México, no le hacemos predicción si está fuera\n",
    "    if not esta_en_mexico(lat, lon):\n",
    "        print(\"Ubicación fuera de México, no se puede hacer predicción.\")\n",
    "        return None\n",
    "    \n",
    "    # Busco la tienda más cercana a las coordenadas que me dieron\n",
    "    _, idx = knn.kneighbors([[lat, lon]])\n",
    "    tienda_cercana = df_features.iloc[idx[0][0]]\n",
    "\n",
    "    # Armo la base de datos con las características de esa tienda cercana,\n",
    "    # pero uso el entorno que me pasaron (puede cambiar) y las coordenadas nuevas\n",
    "    base_tienda = {\n",
    "        \"PLAZA_CVE\": tienda_cercana[\"PLAZA_CVE\"],\n",
    "        \"NIVELSOCIOECONOMICO_DES\": tienda_cercana[\"NIVELSOCIOECONOMICO_DES\"],\n",
    "        \"ENTORNO_DES\": entorno,\n",
    "        \"SEGMENTO_MAESTRO_DESC\": tienda_cercana[\"SEGMENTO_MAESTRO_DESC\"],\n",
    "        \"LID_UBICACION_TIENDA\": tienda_cercana[\"LID_UBICACION_TIENDA\"],\n",
    "        \"MTS2VENTAS_NUM\": tienda_cercana[\"MTS2VENTAS_NUM\"],\n",
    "        \"PUERTASREFRIG_NUM\": tienda_cercana[\"PUERTASREFRIG_NUM\"],\n",
    "        \"CAJONESESTACIONAMIENTO_NUM\": tienda_cercana[\"CAJONESESTACIONAMIENTO_NUM\"],\n",
    "        \"LATITUD_NUM\": lat,\n",
    "        \"LONGITUD_NUM\": lon\n",
    "    }\n",
    "\n",
    "    # Valores iniciales para optimizar (metros cuadrados, puertas y cajones)\n",
    "    x0 = [base_tienda[\"MTS2VENTAS_NUM\"], base_tienda[\"PUERTASREFRIG_NUM\"], base_tienda[\"CAJONESESTACIONAMIENTO_NUM\"]]\n",
    "    bounds = [(50, 200), (1, 10), (0, 10)]\n",
    "\n",
    "    # Le pido al optimizador que me busque esos valores para maximizar la probabilidad de éxito\n",
    "    resultado = minimize(ventas_estimadas_con_ubicacion, x0, args=(modelo, base_tienda, codificador, cat_cols, num_cols),\n",
    "                         bounds=bounds, method='L-BFGS-B')\n",
    "\n",
    "    # Extraigo los valores óptimos y la probabilidad máxima (ojo que minimize devuelve negativo para minimizar)\n",
    "    mts2_opt, puertas_opt, cajones_opt = resultado.x\n",
    "    prob_opt = -resultado.fun\n",
    "\n",
    "    # Predicción con los parámetros base, para comparar\n",
    "    pred_usuario, prob_init = predecir_tienda_nueva(base_tienda, modelo, codificador, cat_cols, num_cols)\n",
    "\n",
    "    print(\"\\nRESULTADO INICIAL CON PARÁMETROS BASE:\")\n",
    "    print(f\"Predicción: {'Éxito (1)' if pred_usuario == 1 else 'No Éxito (0)'}\")\n",
    "    print(f\"Probabilidad de éxito: {prob_init:.2%}\")\n",
    "    \n",
    "    # Veo qué tan lejos está la venta real de la meta para esta tienda base\n",
    "    venta_real = tienda_cercana[\"VENTA_TOTAL\"]\n",
    "    meta_real = tienda_cercana[\"Meta_venta\"]\n",
    "    diferencia = ((venta_real - meta_real) / meta_real) * 100\n",
    "\n",
    "    if pred_usuario == 1:\n",
    "        print(f\"Las ventas mejorarían en aproximadamente {diferencia:.2f}%\")\n",
    "    else:\n",
    "        print(f\"Las ventas caerían por debajo de la meta en aproximadamente {abs(diferencia):.2f}%\")\n",
    "\n",
    "    print(\"\\nRESULTADO OPTIMIZADO:\")\n",
    "    print(f\"m2 óptimo: {mts2_opt:.2f}\")\n",
    "    print(f\"Puertas de Refri óptimo: {puertas_opt:.2f}\")\n",
    "    print(f\"Cajones de estacionamiento óptimo: {cajones_opt:.2f}\")\n",
    "    print(f\"Probabilidad estimada de éxito: {prob_opt:.2%}\")\n",
    "\n",
    "    # Ahora busco tiendas vecinas en el radio especificado para recomendar mejor ubicación\n",
    "    df_features[\"DISTANCIA\"] = haversine(lat, lon, df_features[\"LATITUD_NUM\"], df_features[\"LONGITUD_NUM\"])\n",
    "    vecinas = df_features[df_features[\"DISTANCIA\"] <= radio_km]\n",
    "\n",
    "    mejor_prob = prob_init\n",
    "    mejor_ubicacion = (lat, lon, prob_init)\n",
    "\n",
    "    # Reviso cada tienda vecina para ver si hay una mejor opción con +5% probabilidad\n",
    "    for _, row in vecinas.iterrows():\n",
    "        tienda = {\n",
    "            \"PLAZA_CVE\": row[\"PLAZA_CVE\"],\n",
    "            \"NIVELSOCIOECONOMICO_DES\": row[\"NIVELSOCIOECONOMICO_DES\"],\n",
    "            \"ENTORNO_DES\": entorno,\n",
    "            \"SEGMENTO_MAESTRO_DESC\": row[\"SEGMENTO_MAESTRO_DESC\"],\n",
    "            \"LID_UBICACION_TIENDA\": row[\"LID_UBICACION_TIENDA\"],\n",
    "            \"MTS2VENTAS_NUM\": row[\"MTS2VENTAS_NUM\"],\n",
    "            \"PUERTASREFRIG_NUM\": row[\"PUERTASREFRIG_NUM\"],\n",
    "            \"CAJONESESTACIONAMIENTO_NUM\": row[\"CAJONESESTACIONAMIENTO_NUM\"],\n",
    "            \"LATITUD_NUM\": row[\"LATITUD_NUM\"],\n",
    "            \"LONGITUD_NUM\": row[\"LONGITUD_NUM\"]\n",
    "        }\n",
    "        _, prob = predecir_tienda_nueva(tienda, modelo, codificador, cat_cols, num_cols)\n",
    "        if prob > mejor_prob + 0.05:  # Solo cambio si la mejora es más del 5%\n",
    "            mejor_prob = prob\n",
    "            mejor_ubicacion = (row[\"LATITUD_NUM\"], row[\"LONGITUD_NUM\"], prob)\n",
    "\n",
    "    # Finalmente imprimo la recomendación si encontré mejor opción\n",
    "    if mejor_ubicacion[0] != lat or mejor_ubicacion[1] != lon:\n",
    "        lat2, lon2, prob2 = mejor_ubicacion\n",
    "        print(\"\\nRECOMENDACIÓN:\")\n",
    "        print(f\"Ubicación sugerida: ({lat2:.5f}, {lon2:.5f})\")\n",
    "        print(f\"Probabilidad de éxito ahí: {prob2:.2%} (+{(prob2 - prob_init):.2%})\")\n",
    "    else:\n",
    "        print(\"\\nEsta ubicación es adecuada. No se encontró una mejora significativa en el radio de búsqueda.\")\n"
   ]
  },
  {
   "cell_type": "markdown",
   "id": "16a9b965",
   "metadata": {},
   "source": [
    "# P R U E B A"
   ]
  },
  {
   "cell_type": "code",
   "execution_count": null,
   "id": "3430c704",
   "metadata": {},
   "outputs": [],
   "source": [
    "predecir_y_optimizar_con_recomendacion(25.653587733944487, -100.39367061990951, \"Base\")"
   ]
  }
 ],
 "metadata": {
  "kernelspec": {
   "display_name": "base",
   "language": "python",
   "name": "python3"
  },
  "language_info": {
   "codemirror_mode": {
    "name": "ipython",
    "version": 3
   },
   "file_extension": ".py",
   "mimetype": "text/x-python",
   "name": "python",
   "nbconvert_exporter": "python",
   "pygments_lexer": "ipython3",
   "version": "3.12.2"
  }
 },
 "nbformat": 4,
 "nbformat_minor": 5
}
