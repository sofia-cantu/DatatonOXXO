{
 "cells": [
  {
   "cell_type": "code",
   "execution_count": null,
   "id": "d45ae9b5",
   "metadata": {},
   "outputs": [],
   "source": [
    "import pandas as pd\n",
    "from fastapi import FastAPI\n",
    "## Evaluation\n",
    "df = pd.read_csv('../Data/df_clean_final.csv')\n",
    "app = FastAPI()"
   ]
  },
  {
   "cell_type": "code",
   "execution_count": null,
   "id": "99bc5f2a",
   "metadata": {},
   "outputs": [
    {
     "name": "stdout",
     "output_type": "stream",
     "text": [
      "{\n",
      "  \"error\": \"TIENDA_ID no encontrado en datos de ventas.\"\n",
      "}\n"
     ]
    }
   ],
   "source": [
    "@app.get(\"/api/desempeno-ventas/{tienda_id}\")\n",
    "def obtener_desempeno_ventas(tienda_id: int):\n",
    "    df_tienda = df[df['TIENDA_ID'] == tienda_id].copy()\n",
    "    df_tienda.sort_values(by='MES_ID', inplace=True)\n",
    "\n",
    "    if df_tienda.empty:\n",
    "        return {\"error\": \"TIENDA_ID no encontrado en datos de ventas.\"}\n",
    "\n",
    "    if len(df_tienda) < 2:\n",
    "        return {\"error\": \"No hay suficientes registros históricos para evaluar ventas.\"}\n",
    "\n",
    "    venta_actual = float(df_tienda['VENTA_TOTAL'].iloc[-1])\n",
    "    promedio_6m = float(df_tienda['VENTA_TOTAL'].iloc[-7:-1].mean() if len(df_tienda) >= 7 else df_tienda['VENTA_TOTAL'].iloc[:-1].mean())\n",
    "    maximo = float(df_tienda['VENTA_TOTAL'].max())\n",
    "    minimo = float(df_tienda['VENTA_TOTAL'].min())\n",
    "\n",
    "    delta = venta_actual - promedio_6m\n",
    "    porcentaje = (delta / promedio_6m) * 100 if promedio_6m != 0 else None\n",
    "\n",
    "    return {\n",
    "        \"venta_ultimo_mes\": venta_actual,\n",
    "        \"promedio_6_meses_previos\": promedio_6m,\n",
    "        \"venta_maxima_historica\": maximo,\n",
    "        \"venta_minima_historica\": minimo,\n",
    "        \"comparativo_vs_promedio_pct\": round(porcentaje, 2) if porcentaje is not None else None\n",
    "    }"
   ]
  },
  {
   "cell_type": "code",
   "execution_count": null,
   "id": "0f541af9",
   "metadata": {},
   "outputs": [
    {
     "name": "stdout",
     "output_type": "stream",
     "text": [
      "{\n",
      "  \"poblacion_total\": 2934,\n",
      "  \"total_hogares\": 850,\n",
      "  \"poblacion_economicamente_activa\": 1435,\n",
      "  \"viviendas_con_automovil\": 732\n",
      "}\n"
     ]
    }
   ],
   "source": [
    "@app.get(\"/api/perfil-demografico/{tienda_id}\")\n",
    "def obtener_perfil_demografico(tienda_id: int):\n",
    "    fila = df[df['TIENDA_ID'] == tienda_id]\n",
    "\n",
    "    if fila.empty:\n",
    "        return {\"error\": \"TIENDA_ID no encontrado en datos demográficos.\"}\n",
    "\n",
    "    fila = fila.iloc[0]\n",
    "\n",
    "    return {\n",
    "        \"poblacion_total\": int(fila['POBTOT']),\n",
    "        \"total_hogares\": int(fila['TOTHOG']),\n",
    "        \"poblacion_economicamente_activa\": int(fila['PEA']),\n",
    "        \"viviendas_con_automovil\": int(fila['VPH_AUTOM'])\n",
    "    }"
   ]
  },
  {
   "cell_type": "code",
   "execution_count": null,
   "id": "da64dbc6",
   "metadata": {},
   "outputs": [],
   "source": [
    "@app.get(\"/api/historial-ventas/{tienda_id}\")\n",
    "def obtener_historial_ventas(tienda_id: int):\n",
    "    df_tienda = df[df['TIENDA_ID'] == tienda_id].copy()\n",
    "\n",
    "    if df_tienda.empty:\n",
    "        return {\"error\": \"TIENDA_ID no encontrado en datos de ventas.\"}\n",
    "\n",
    "    df_tienda.sort_values(by=\"MES_ID\", inplace=True)\n",
    "\n",
    "    historial = [\n",
    "        {\"mes_id\": int(row[\"MES_ID\"]), \"venta_total\": float(row[\"VENTA_TOTAL\"])}\n",
    "        for _, row in df_tienda.iterrows()\n",
    "    ]\n",
    "\n",
    "    return {\n",
    "        \"tienda_id\": tienda_id,\n",
    "        \"historial_ventas\": historial\n",
    "    }"
   ]
  }
 ],
 "metadata": {
  "kernelspec": {
   "display_name": "Python 3",
   "language": "python",
   "name": "python3"
  },
  "language_info": {
   "codemirror_mode": {
    "name": "ipython",
    "version": 3
   },
   "file_extension": ".py",
   "mimetype": "text/x-python",
   "name": "python",
   "nbconvert_exporter": "python",
   "pygments_lexer": "ipython3",
   "version": "3.11.2"
  }
 },
 "nbformat": 4,
 "nbformat_minor": 5
}
