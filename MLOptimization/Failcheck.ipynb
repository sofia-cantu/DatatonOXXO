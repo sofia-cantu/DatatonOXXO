{
 "cells": [
  {
   "cell_type": "code",
   "execution_count": 1,
   "id": "42d76a2e",
   "metadata": {},
   "outputs": [],
   "source": [
    "import pandas as pd\n",
    "import geopandas as gpd\n",
    "from shapely.geometry import Point\n",
    "\n",
    "# Inicialización global\n",
    "def cargar_agebs_nl_tamps():\n",
    "    gdf_nl = gpd.read_file(\"../Data/Datos-Inegi/ageb/19_nuevoleon/conjunto_de_datos/19a.shp\").to_crs(\"EPSG:4326\")\n",
    "    gdf_tamps = gpd.read_file(\"../Data/Datos-Inegi/ageb/28_tamaulipas/conjunto_de_datos/28a.shp\").to_crs(\"EPSG:4326\")\n",
    "\n",
    "    if 'AMBITO' in gdf_nl.columns:\n",
    "        gdf_nl = gdf_nl[gdf_nl['AMBITO'] == '1']\n",
    "    if 'AMBITO' in gdf_tamps.columns:\n",
    "        gdf_tamps = gdf_tamps[gdf_tamps['AMBITO'] == '1']\n",
    "\n",
    "    gdf_agebs = pd.concat([gdf_nl, gdf_tamps], ignore_index=True)\n",
    "    return gdf_agebs\n",
    "\n",
    "# Cargar una sola vez\n",
    "gdf_agebs = cargar_agebs_nl_tamps()\n",
    "\n",
    "# Función para evaluar una coordenada\n",
    "def esta_dentro_de_ageb(latitud: float, longitud: float) -> bool:\n",
    "    punto = gpd.GeoDataFrame(geometry=[Point(longitud, latitud)], crs=\"EPSG:4326\")\n",
    "    resultado = gpd.sjoin(punto, gdf_agebs, how='left', predicate='within')\n",
    "    return not resultado['CVE_AGEB'].isna().values[0]"
   ]
  },
  {
   "cell_type": "code",
   "execution_count": null,
   "id": "3c482f8d",
   "metadata": {},
   "outputs": [
    {
     "name": "stdout",
     "output_type": "stream",
     "text": [
      "False\n"
     ]
    }
   ],
   "source": [
    "print(esta_dentro_de_ageb(25.631894649909906, -100.27937052052911))  # True o False"
   ]
  }
 ],
 "metadata": {
  "kernelspec": {
   "display_name": "Python 3",
   "language": "python",
   "name": "python3"
  },
  "language_info": {
   "codemirror_mode": {
    "name": "ipython",
    "version": 3
   },
   "file_extension": ".py",
   "mimetype": "text/x-python",
   "name": "python",
   "nbconvert_exporter": "python",
   "pygments_lexer": "ipython3",
   "version": "3.11.2"
  }
 },
 "nbformat": 4,
 "nbformat_minor": 5
}
