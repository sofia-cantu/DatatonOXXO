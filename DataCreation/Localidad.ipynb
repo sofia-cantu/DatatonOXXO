{
 "cells": [
  {
   "cell_type": "code",
   "execution_count": 13,
   "id": "de8ced48",
   "metadata": {},
   "outputs": [],
   "source": [
    "import pandas as pd\n",
    "import numpy as np\n",
    "from sklearn.neighbors import BallTree\n",
    "import urllib.parse\n",
    "from sqlalchemy import create_engine\n",
    "from geopy.distance import geodesic\n",
    "import os\n",
    "from tqdm import tqdm\n",
    "tqdm.pandas()\n",
    "df_tienda = pd.read_csv(\"../Data/DIM_TIENDA.csv\")\n",
    "# Sólo quedarse con las columnas \"TIENDA_ID, LATITUD_NUM, LONGITUD_NUM\"\n",
    "df_tiendas = df_tienda[[\"TIENDA_ID\", \"LATITUD_NUM\", \"LONGITUD_NUM\"]]"
   ]
  },
  {
   "cell_type": "code",
   "execution_count": 14,
   "id": "3a58b658",
   "metadata": {},
   "outputs": [],
   "source": [
    "user = 'root'\n",
    "raw_password = os.getenv(\"SQL_PASSWORD\")\n",
    "password = password = urllib.parse.quote_plus(raw_password)\n",
    "host = 'localhost'\n",
    "database = 'cat_ageeml'\n",
    "\n",
    "engine = create_engine(f\"mysql+pymysql://{user}:{password}@{host}:3306/{database}\")\n",
    "\n",
    "# Carga las tablas\n",
    "df_localidades = pd.read_sql(\"SELECT id, nombre, lat, lng FROM localidades WHERE lat IS NOT NULL AND lng IS NOT NULL AND activo = 1\", engine)"
   ]
  },
  {
   "cell_type": "code",
   "execution_count": 15,
   "id": "598f56dd",
   "metadata": {},
   "outputs": [
    {
     "name": "stderr",
     "output_type": "stream",
     "text": [
      "C:\\Users\\aesca\\AppData\\Local\\Temp\\ipykernel_33732\\2309382445.py:14: SettingWithCopyWarning: \n",
      "A value is trying to be set on a copy of a slice from a DataFrame.\n",
      "Try using .loc[row_indexer,col_indexer] = value instead\n",
      "\n",
      "See the caveats in the documentation: https://pandas.pydata.org/pandas-docs/stable/user_guide/indexing.html#returning-a-view-versus-a-copy\n",
      "  df_tiendas['localidad_id'] = df_localidades.iloc[indices.flatten()].reset_index(drop=True)['id']\n",
      "C:\\Users\\aesca\\AppData\\Local\\Temp\\ipykernel_33732\\2309382445.py:15: SettingWithCopyWarning: \n",
      "A value is trying to be set on a copy of a slice from a DataFrame.\n",
      "Try using .loc[row_indexer,col_indexer] = value instead\n",
      "\n",
      "See the caveats in the documentation: https://pandas.pydata.org/pandas-docs/stable/user_guide/indexing.html#returning-a-view-versus-a-copy\n",
      "  df_tiendas['localidad_nombre'] = df_localidades.iloc[indices.flatten()].reset_index(drop=True)['nombre']\n",
      "C:\\Users\\aesca\\AppData\\Local\\Temp\\ipykernel_33732\\2309382445.py:16: SettingWithCopyWarning: \n",
      "A value is trying to be set on a copy of a slice from a DataFrame.\n",
      "Try using .loc[row_indexer,col_indexer] = value instead\n",
      "\n",
      "See the caveats in the documentation: https://pandas.pydata.org/pandas-docs/stable/user_guide/indexing.html#returning-a-view-versus-a-copy\n",
      "  df_tiendas['distancia_km'] = distancias_km\n"
     ]
    }
   ],
   "source": [
    "# --- CONVERTIR COORDENADAS A RADIANES ---\n",
    "localidades_coords_rad = np.radians(df_localidades[['lat', 'lng']].values)\n",
    "tiendas_coords_rad = np.radians(df_tiendas[['LATITUD_NUM', 'LONGITUD_NUM']].values)\n",
    "\n",
    "# --- CREAR BALL TREE CON MÉTRICA HAVERSINE ---\n",
    "tree = BallTree(localidades_coords_rad, metric='haversine')\n",
    "\n",
    "# --- CONSULTAR VECINO MÁS CERCANO PARA CADA TIENDA ---\n",
    "# El resultado está en radianes, multiplicamos por radio de la Tierra para km\n",
    "distancias, indices = tree.query(tiendas_coords_rad, k=1)\n",
    "distancias_km = distancias.flatten() * 6371  # 6371 km es el radio de la Tierra\n",
    "\n",
    "# --- ASIGNAR RESULTADOS ---\n",
    "df_tiendas['localidad_id'] = df_localidades.iloc[indices.flatten()].reset_index(drop=True)['id']\n",
    "df_tiendas['localidad_nombre'] = df_localidades.iloc[indices.flatten()].reset_index(drop=True)['nombre']\n",
    "df_tiendas['distancia_km'] = distancias_km\n",
    "\n",
    "# --- GUARDAR RESULTADO ---\n",
    "df_tiendas.to_csv('tiendas_con_localidad_balltree.csv', index=False)"
   ]
  },
  {
   "cell_type": "code",
   "execution_count": 1,
   "id": "1b43a67d",
   "metadata": {},
   "outputs": [],
   "source": [
    "# # --- APLICAR ---\n",
    "# df_tiendas['localidad_id'] = df_tiendas.progress_apply(\n",
    "#     lambda row: encontrar_localidad_mas_cercana_opt(row['LATITUD_NUM'], row['LONGITUD_NUM']), axis=1\n",
    "# )\n",
    "\n",
    "# # --- OPCIONAL: Añadir nombre\n",
    "# df_tiendas['localidad_nombre'] = df_tiendas['localidad_id'].map(\n",
    "#     df_localidades.set_index('id')['nombre']\n",
    "# )\n",
    "\n",
    "# # --- GUARDAR RESULTADO ---\n",
    "# df_tiendas.to_csv('tiendas_con_localidad.csv', index=False)"
   ]
  }
 ],
 "metadata": {
  "kernelspec": {
   "display_name": "Python 3",
   "language": "python",
   "name": "python3"
  },
  "language_info": {
   "codemirror_mode": {
    "name": "ipython",
    "version": 3
   },
   "file_extension": ".py",
   "mimetype": "text/x-python",
   "name": "python",
   "nbconvert_exporter": "python",
   "pygments_lexer": "ipython3",
   "version": "3.11.2"
  }
 },
 "nbformat": 4,
 "nbformat_minor": 5
}
